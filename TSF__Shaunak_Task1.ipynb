{
  "nbformat": 4,
  "nbformat_minor": 0,
  "metadata": {
    "colab": {
      "name": "TSF_ Shaunak_Task1.ipynb",
      "provenance": [],
      "collapsed_sections": []
    },
    "kernelspec": {
      "name": "python3",
      "display_name": "Python 3"
    }
  },
  "cells": [
    {
      "cell_type": "markdown",
      "metadata": {
        "id": "HQE7zNj1YXqV"
      },
      "source": [
        "**The Sparks Foundation - Data Science Internship Task 1**\n",
        "\n",
        "**Predicting with the help of Simple Linear Regression**\n",
        "\n",
        "**Author : - Shaunak Barve**"
      ]
    },
    {
      "cell_type": "code",
      "metadata": {
        "id": "Q5gciltoBtMt"
      },
      "source": [
        "# importing the required libraries\n",
        "import pandas as pd\n",
        "import matplotlib.pyplot as plt\n",
        "from sklearn import linear_model , metrics\n",
        "from sklearn.model_selection import train_test_split"
      ],
      "execution_count": 1,
      "outputs": []
    },
    {
      "cell_type": "code",
      "metadata": {
        "id": "UCzSAfr2CJig"
      },
      "source": [
        "# reading in the data and segregating into target and explanatory variables\n",
        "data = pd.read_csv(\"Task1.csv\")\n",
        "y = data.Scores\n",
        "x = data.Hours"
      ],
      "execution_count": 2,
      "outputs": []
    },
    {
      "cell_type": "code",
      "metadata": {
        "id": "En0l9kFXETcO",
        "outputId": "c4f299f4-03ad-4de9-d90f-7bae1fad872c",
        "colab": {
          "base_uri": "https://localhost:8080/",
          "height": 67
        }
      },
      "source": [
        "print(data.isna().sum()) # checking for missing values "
      ],
      "execution_count": 3,
      "outputs": [
        {
          "output_type": "stream",
          "text": [
            "Hours     0\n",
            "Scores    0\n",
            "dtype: int64\n"
          ],
          "name": "stdout"
        }
      ]
    },
    {
      "cell_type": "code",
      "metadata": {
        "id": "5O4H3EDpZCXG",
        "outputId": "a991fc5f-89e7-4bcb-c47c-f1576ed5e088",
        "colab": {
          "base_uri": "https://localhost:8080/",
          "height": 295
        }
      },
      "source": [
        "# looking at the distribution of number of hours\n",
        "plt.boxplot(x)\n",
        "plt.xticks(())\n",
        "plt.xlabel(\"No. of Hours\")\n",
        "plt.title(\"Distribution of number of hours\")\n"
      ],
      "execution_count": 4,
      "outputs": [
        {
          "output_type": "execute_result",
          "data": {
            "text/plain": [
              "Text(0.5, 1.0, 'Distribution of number of hours')"
            ]
          },
          "metadata": {
            "tags": []
          },
          "execution_count": 4
        },
        {
          "output_type": "display_data",
          "data": {
            "image/png": "[encoded data removed]",
            "text/plain": [
              "<Figure size 432x288 with 1 Axes>"
            ]
          },
          "metadata": {
            "tags": [],
            "needs_background": "light"
          }
        }
      ]
    },
    {
      "cell_type": "markdown",
      "metadata": {
        "id": "RsmQv1OAFnXM"
      },
      "source": [
        "**We can observe that there are no missing values in our data and the distribution of the number of hours of study is slightly positively skewed with no outliers**"
      ]
    },
    {
      "cell_type": "code",
      "metadata": {
        "id": "oGirHCciCjGa",
        "outputId": "44a0a856-8dbc-4e5a-97cd-13d9ad237c56",
        "colab": {
          "base_uri": "https://localhost:8080/",
          "height": 312
        }
      },
      "source": [
        "# Looking at the scatter plot of the data\n",
        "plt.scatter(x,y,c = 'r')\n",
        "plt.title(\"Scores v/s Hours\")\n",
        "plt.ylabel(\"%age Scores\")\n",
        "plt.xlabel(\"No. of Hours\")"
      ],
      "execution_count": 5,
      "outputs": [
        {
          "output_type": "execute_result",
          "data": {
            "text/plain": [
              "Text(0.5, 0, 'No. of Hours')"
            ]
          },
          "metadata": {
            "tags": []
          },
          "execution_count": 5
        },
        {
          "output_type": "display_data",
          "data": {
            "image/png": "[encoded data removed]",
            "text/plain": [
              "<Figure size 432x288 with 1 Axes>"
            ]
          },
          "metadata": {
            "tags": [],
            "needs_background": "light"
          }
        }
      ]
    },
    {
      "cell_type": "markdown",
      "metadata": {
        "id": "N93CxEqJEhnU"
      },
      "source": [
        "Looking at the above scatter plot of how the %age scores depend upon the number of hours a student studies, it's safe to say that the best supervised model that would fit the data is the linear regression model.\n",
        "\n",
        "\n",
        "Before that, in order to test the performance of the model that we will fit, we will divide the data into train and test sets."
      ]
    },
    {
      "cell_type": "code",
      "metadata": {
        "id": "PXphuWOMCWtn"
      },
      "source": [
        "# splitting the data into train and test sets\n",
        "x_train,x_test,y_train,y_test = train_test_split(x,y,test_size = 0.25, random_state = 123)"
      ],
      "execution_count": 6,
      "outputs": []
    },
    {
      "cell_type": "code",
      "metadata": {
        "id": "TWDJVk4NGhfM"
      },
      "source": [
        "lin_reg = linear_model.LinearRegression() # linear regression model\n",
        "lin_reg.fit(x_train.values.reshape(-1,1),y_train) # training the model\n",
        "y_pred = lin_reg.predict(x_test.values.reshape(-1,1)) # predicting on the test data using the trained model"
      ],
      "execution_count": 7,
      "outputs": []
    },
    {
      "cell_type": "code",
      "metadata": {
        "id": "Ci_DUQldHRuU",
        "outputId": "8e93e5bd-d572-40c2-afc9-ce0cb68f6b9a",
        "colab": {
          "base_uri": "https://localhost:8080/",
          "height": 50
        }
      },
      "source": [
        "# printing out the results\n",
        "print(\"The coefficient and the intercept of the trained model are\", \n",
        "      round(lin_reg.coef_[0],4),\"and\",round(lin_reg.intercept_,4),\"respectively.\")\n",
        "print(\"The adjusted R - squarred value of the model is\",round(metrics.r2_score(y_test,y_pred),5)*100,\"%.\")"
      ],
      "execution_count": 8,
      "outputs": [
        {
          "output_type": "stream",
          "text": [
            "The coefficient and the intercept of the trained model are 9.6172 and 2.4486 respectively.\n",
            "The adjusted R - squarred value of the model is 95.938 %.\n"
          ],
          "name": "stdout"
        }
      ]
    },
    {
      "cell_type": "markdown",
      "metadata": {
        "id": "a7OkJgMzKbq_"
      },
      "source": [
        "\n",
        "\n",
        "*   The intercept **2.4486** tells us that if a student studies for 0 hours, the %age score that he or she will achieve is **2.4486**. The coefficient value **9.6172** tells us that for every on hour that the student studies, his or her %age score increases by **9.6172%** per hour.\n",
        "*   The Coefficient of Determination of the fitted model is **95.938%**. This tells us that the number of hours a student studies, explains over **95.938%** variation in the %age of scores he or she achieves. This value also tells us that the model has fit the data really well.\n",
        "\n",
        "\n",
        "\n",
        "\n"
      ]
    },
    {
      "cell_type": "code",
      "metadata": {
        "id": "__Qr5P52MXWB",
        "outputId": "36d2e774-4fc6-43ec-c6a7-1cfb3bbe4312",
        "colab": {
          "base_uri": "https://localhost:8080/",
          "height": 312
        }
      },
      "source": [
        "fitted_line = lin_reg.coef_ * x + lin_reg.intercept_ # computing the fitted line for the entire data\n",
        "\n",
        "# plotting the fitted line over the actual score\n",
        "plt.scatter(x,y,c = 'r', label = \"Actual data\")\n",
        "plt.plot(x,fitted_line, label = \"Fitted regression line\")\n",
        "plt.title(\"Fitted Model over the Actual data\")\n",
        "plt.ylabel(\"%age Scores\")\n",
        "plt.xlabel(\"No. of Hours\")\n",
        "plt.legend(loc = 4)"
      ],
      "execution_count": 9,
      "outputs": [
        {
          "output_type": "execute_result",
          "data": {
            "text/plain": [
              "<matplotlib.legend.Legend at 0x7fd2982b26d8>"
            ]
          },
          "metadata": {
            "tags": []
          },
          "execution_count": 9
        },
        {
          "output_type": "display_data",
          "data": {
            "image/png": "[encoded data removed]",
            "text/plain": [
              "<Figure size 432x288 with 1 Axes>"
            ]
          },
          "metadata": {
            "tags": [],
            "needs_background": "light"
          }
        }
      ]
    },
    {
      "cell_type": "code",
      "metadata": {
        "id": "KHf9d4bjOW0-",
        "outputId": "f2e4f6bb-3a5a-45ae-a376-5e7e3621c5df",
        "colab": {
          "base_uri": "https://localhost:8080/",
          "height": 34
        }
      },
      "source": [
        "# calculating the predicted score of the given number of hours\n",
        "pred_value = lin_reg.predict(pd.Series(9.25).values.reshape(-1,1))\n",
        "print(\"The predicted score if a student studies for 9.25 hours/day will be\",round(pred_value[0],2),\"%.\")"
      ],
      "execution_count": 10,
      "outputs": [
        {
          "output_type": "stream",
          "text": [
            "The predicted score if a student studies for 9.25 hours/day will be 91.41 %.\n"
          ],
          "name": "stdout"
        }
      ]
    },
    {
      "cell_type": "markdown",
      "metadata": {
        "id": "T7ZJ8C_WSAbS"
      },
      "source": [
        "Thus,depending on our model, we can conclude that if a student studies for **9.25** hours/day, the score that he or she will acieve is **91.41%**.\n"
      ]
    }
  ]
}